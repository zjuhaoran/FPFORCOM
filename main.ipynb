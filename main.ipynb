{
 "cells": [
  {
   "cell_type": "markdown",
   "metadata": {},
   "source": [
    "# Overview\n",
    "\n",
    "In this example, the Fast Fourier Transform method was used to convert the amino acid sequence of the protein into two-dimensional spectral data, combined with least squares regression for machine learning and to predict the activity of new mutation sites.\n"
   ]
  },
  {
   "cell_type": "code",
   "execution_count": 18,
   "metadata": {},
   "outputs": [
    {
     "name": "stdout",
     "output_type": "stream",
     "text": [
      "The autoreload extension is already loaded. To reload it, use:\n",
      "  %reload_ext autoreload\n"
     ]
    }
   ],
   "source": [
    "FFT_src_folder_path = \"./src/\"\n",
    "\n",
    "import sys\n",
    "sys.path.insert(0, FFT_src_folder_path)\n",
    "\n",
    "\n",
    "%load_ext autoreload\n",
    "%autoreload 2\n",
    "\n",
    "# ignore all warnings\n",
    "import warnings\n",
    "warnings.filterwarnings('ignore')\n",
    "\n",
    "import pandas as pd\n",
    "from data import getxulie\n",
    "from data import getseqs\n",
    "from data import getmutimutants,getsinglemutants\n",
    "from model import index_search\n",
    "from model import make_prediction"
   ]
  },
  {
   "cell_type": "code",
   "execution_count": 2,
   "metadata": {},
   "outputs": [],
   "source": [
    "# the main function of every task\n",
    "def main(wt_seq,train_m,target,predict_m,task_name,flag,cv):\n",
    "\n",
    "    #Genrate the sequence of mutants\n",
    "    train_m_dict=getseqs(wt_seq,train_m)\n",
    "    if type(predict_m) == int:  ## Specify the sites for performing saturation mutagenesis\n",
    "        predict_m_dict = getsinglemutants(wt_seq,predict_m)\n",
    "    elif '.csv' in predict_m:\n",
    "        predict_m_dict = pd.read_csv('./input'+'/'+predict_m,index_col=0).to_dict()['0']\n",
    "    else:  ## Default to combinatorial mutagenesis at specified sites\n",
    "        predict_m_dict  = getmutimutants(wt_seq,predict_m)\n",
    "\n",
    "    #Screen the best AAindex\n",
    "    indexlist=[]\n",
    "    for i in range(flag):\n",
    "        screenindex,score = index_search(train_m_dict,target,indexlist,cv)\n",
    "        screenindex_= '_'.join(screenindex)\n",
    "        score.to_csv(f'./output/{task_name}_{screenindex_}'+'.csv')\n",
    "        indexlist.append(screenindex[-1])\n",
    "        print('The best index of round '+str(i+1)+' : '+screenindex_)\n",
    "\n",
    "    single_m = getseqs(wt_seq,[m for m in train_m if '/' not in m])\n",
    "    #Model prediction\n",
    "    all_m =dict(single_m,**predict_m_dict)  #Combine single and multiple mutants\n",
    "    result = make_prediction(train_m_dict,target,all_m,score.index[0].split('_'),score['n_components'][0])\n",
    "    result=result.sort_values(by=score.index[0],ascending=False)\n",
    "    return result\n"
   ]
  },
  {
   "cell_type": "markdown",
   "metadata": {},
   "source": [
    "## SingleForMulti\n",
    "In this example, data of single-point mutations is utilized as the training set. After selecting suitable AAindex features, the best features are used to build a model, which is then applied to predict the mutation landscape."
   ]
  },
  {
   "cell_type": "markdown",
   "metadata": {},
   "source": [
    "### Preparation\n",
    "\n",
    "Sequence file：seq_IFRS.txt\n",
    "\n",
    "Traindata：data.xlsx ( sheet_name : Trainset1 )"
   ]
  },
  {
   "cell_type": "code",
   "execution_count": 3,
   "metadata": {},
   "outputs": [],
   "source": [
    "task_name= 'SingleForMulti'  # the name of the task"
   ]
  },
  {
   "cell_type": "code",
   "execution_count": 4,
   "metadata": {},
   "outputs": [],
   "source": [
    "wt_seq = getxulie('./input/seq_IFRS.txt')  ## Specify the original sequence\n",
    "\n",
    "data = pd.read_excel('./input/data.xlsx',sheet_name='Trainset1')  # Specify the training set\n",
    "target = data['Fitness'].values\n",
    "train_m =  [m for m in data['Variants'].tolist() if m==m] \n",
    "predict_m = ['D2N','K3N','R19H','H29R','V31I','T56P','R61K','H62Y','H63Y','A100E','T122S','S193R'] # Specify the mutation sites to be combined\n",
    "\n",
    "flag=1  # the number of indexs to be screened\n",
    "cv=len(train_m)\n"
   ]
  },
  {
   "cell_type": "code",
   "execution_count": 5,
   "metadata": {},
   "outputs": [
    {
     "name": "stderr",
     "output_type": "stream",
     "text": [
      "Processing: 100%|██████████| 566/566 [00:29<00:00, 19.19it/s]\n"
     ]
    },
    {
     "name": "stdout",
     "output_type": "stream",
     "text": [
      "The best index of round 1 : OOBM850103\n",
      "The number of mutants for training: 13\n",
      "The number of mutants for prediction: 4096\n"
     ]
    },
    {
     "data": {
      "text/html": [
       "<div>\n",
       "<style scoped>\n",
       "    .dataframe tbody tr th:only-of-type {\n",
       "        vertical-align: middle;\n",
       "    }\n",
       "\n",
       "    .dataframe tbody tr th {\n",
       "        vertical-align: top;\n",
       "    }\n",
       "\n",
       "    .dataframe thead th {\n",
       "        text-align: right;\n",
       "    }\n",
       "</style>\n",
       "<table border=\"1\" class=\"dataframe\">\n",
       "  <thead>\n",
       "    <tr style=\"text-align: right;\">\n",
       "      <th></th>\n",
       "      <th>OOBM850103</th>\n",
       "    </tr>\n",
       "  </thead>\n",
       "  <tbody>\n",
       "    <tr>\n",
       "      <th>D2N/R61K/H62Y</th>\n",
       "      <td>4.817919</td>\n",
       "    </tr>\n",
       "    <tr>\n",
       "      <th>D2N/V31I/H62Y</th>\n",
       "      <td>4.741733</td>\n",
       "    </tr>\n",
       "    <tr>\n",
       "      <th>D2N/H62Y</th>\n",
       "      <td>4.581115</td>\n",
       "    </tr>\n",
       "    <tr>\n",
       "      <th>D2N/H62Y/A100E</th>\n",
       "      <td>4.461181</td>\n",
       "    </tr>\n",
       "    <tr>\n",
       "      <th>D2N/H29R/H62Y</th>\n",
       "      <td>4.204006</td>\n",
       "    </tr>\n",
       "    <tr>\n",
       "      <th>D2N/H62Y/S193R</th>\n",
       "      <td>4.197835</td>\n",
       "    </tr>\n",
       "    <tr>\n",
       "      <th>D2N/K3N/H62Y</th>\n",
       "      <td>4.162269</td>\n",
       "    </tr>\n",
       "    <tr>\n",
       "      <th>D2N/V31I/R61K</th>\n",
       "      <td>4.058469</td>\n",
       "    </tr>\n",
       "    <tr>\n",
       "      <th>D2N/R61K/A100E</th>\n",
       "      <td>4.026157</td>\n",
       "    </tr>\n",
       "    <tr>\n",
       "      <th>D2N/R19H/H62Y</th>\n",
       "      <td>3.984228</td>\n",
       "    </tr>\n",
       "  </tbody>\n",
       "</table>\n",
       "</div>"
      ],
      "text/plain": [
       "                OOBM850103\n",
       "D2N/R61K/H62Y     4.817919\n",
       "D2N/V31I/H62Y     4.741733\n",
       "D2N/H62Y          4.581115\n",
       "D2N/H62Y/A100E    4.461181\n",
       "D2N/H29R/H62Y     4.204006\n",
       "D2N/H62Y/S193R    4.197835\n",
       "D2N/K3N/H62Y      4.162269\n",
       "D2N/V31I/R61K     4.058469\n",
       "D2N/R61K/A100E    4.026157\n",
       "D2N/R19H/H62Y     3.984228"
      ]
     },
     "execution_count": 5,
     "metadata": {},
     "output_type": "execute_result"
    }
   ],
   "source": [
    "result = main(wt_seq,train_m,target,predict_m,task_name,flag,cv)\n",
    "\n",
    "# The predicted Fitness of single, double and triple mutants\n",
    "result.loc[[m for m in result.index if m.count('/')<3],].head(10)"
   ]
  },
  {
   "cell_type": "code",
   "execution_count": 6,
   "metadata": {},
   "outputs": [],
   "source": [
    "result.to_csv(f'./output/result_{task_name}_pred'+'.csv')"
   ]
  },
  {
   "cell_type": "markdown",
   "metadata": {},
   "source": [
    "## MultiForCom1\n",
    "In this example, data of single, double and triple-site mutations is utilized as the training set. After selecting suitable AAindex features, the best features are used to build a model, which is then applied to predict the mutation landscape. And top 8 of the predicted mutations are selected to validate by experiments."
   ]
  },
  {
   "cell_type": "markdown",
   "metadata": {},
   "source": [
    "### Preparation\n",
    "\n",
    "Sequence file：seq_IFRS.txt\n",
    "\n",
    "Traindata：data.xlsx ( sheet_name : Trainset2 )"
   ]
  },
  {
   "cell_type": "code",
   "execution_count": 7,
   "metadata": {},
   "outputs": [],
   "source": [
    "task_name= 'MultiForCom1'  # the name of the task"
   ]
  },
  {
   "cell_type": "code",
   "execution_count": 8,
   "metadata": {},
   "outputs": [],
   "source": [
    "wt_seq = getxulie('./input/seq_IFRS.txt')  ## Specify the original sequence\n",
    "data = pd.read_excel('./input/data.xlsx',sheet_name='Trainset2')\n",
    "\n",
    "target = data['Fitness'].values\n",
    "train_m =  [m for m in data['Variants'].tolist() if m==m] \n",
    "predict_m = ['D2N','K3N','R19H','H29R','V31I','T56P','R61K','H62Y','H63Y','A100E','T122S','S193R']\n",
    "\n",
    "flag=1  # the number of indexs to be screened\n",
    "cv=len(train_m)\n"
   ]
  },
  {
   "cell_type": "code",
   "execution_count": 9,
   "metadata": {},
   "outputs": [
    {
     "name": "stderr",
     "output_type": "stream",
     "text": [
      "Processing: 100%|██████████| 566/566 [01:01<00:00,  9.20it/s]\n"
     ]
    },
    {
     "name": "stdout",
     "output_type": "stream",
     "text": [
      "The best index of round 1 : RADA880104\n",
      "The number of mutants for training: 38\n",
      "The number of mutants for prediction: 4096\n"
     ]
    },
    {
     "data": {
      "text/html": [
       "<div>\n",
       "<style scoped>\n",
       "    .dataframe tbody tr th:only-of-type {\n",
       "        vertical-align: middle;\n",
       "    }\n",
       "\n",
       "    .dataframe tbody tr th {\n",
       "        vertical-align: top;\n",
       "    }\n",
       "\n",
       "    .dataframe thead th {\n",
       "        text-align: right;\n",
       "    }\n",
       "</style>\n",
       "<table border=\"1\" class=\"dataframe\">\n",
       "  <thead>\n",
       "    <tr style=\"text-align: right;\">\n",
       "      <th></th>\n",
       "      <th>RADA880104</th>\n",
       "    </tr>\n",
       "  </thead>\n",
       "  <tbody>\n",
       "    <tr>\n",
       "      <th>D2N/K3N/T56P/R61K/H62Y/S193R</th>\n",
       "      <td>8.163454</td>\n",
       "    </tr>\n",
       "    <tr>\n",
       "      <th>D2N/K3N/V31I/T56P/R61K/H62Y/S193R</th>\n",
       "      <td>8.133763</td>\n",
       "    </tr>\n",
       "    <tr>\n",
       "      <th>D2N/K3N/T56P/R61K/H62Y/T122S/S193R</th>\n",
       "      <td>8.133705</td>\n",
       "    </tr>\n",
       "    <tr>\n",
       "      <th>D2N/K3N/V31I/T56P/R61K/H62Y/T122S/S193R</th>\n",
       "      <td>8.128409</td>\n",
       "    </tr>\n",
       "    <tr>\n",
       "      <th>D2N/T56P/R61K/H62Y/S193R</th>\n",
       "      <td>8.065958</td>\n",
       "    </tr>\n",
       "    <tr>\n",
       "      <th>D2N/V31I/T56P/R61K/H62Y/S193R</th>\n",
       "      <td>8.064915</td>\n",
       "    </tr>\n",
       "    <tr>\n",
       "      <th>D2N/V31I/T56P/R61K/H62Y/T122S/S193R</th>\n",
       "      <td>8.059374</td>\n",
       "    </tr>\n",
       "    <tr>\n",
       "      <th>D2N/T56P/R61K/H62Y/T122S/S193R</th>\n",
       "      <td>8.052968</td>\n",
       "    </tr>\n",
       "  </tbody>\n",
       "</table>\n",
       "</div>"
      ],
      "text/plain": [
       "                                         RADA880104\n",
       "D2N/K3N/T56P/R61K/H62Y/S193R               8.163454\n",
       "D2N/K3N/V31I/T56P/R61K/H62Y/S193R          8.133763\n",
       "D2N/K3N/T56P/R61K/H62Y/T122S/S193R         8.133705\n",
       "D2N/K3N/V31I/T56P/R61K/H62Y/T122S/S193R    8.128409\n",
       "D2N/T56P/R61K/H62Y/S193R                   8.065958\n",
       "D2N/V31I/T56P/R61K/H62Y/S193R              8.064915\n",
       "D2N/V31I/T56P/R61K/H62Y/T122S/S193R        8.059374\n",
       "D2N/T56P/R61K/H62Y/T122S/S193R             8.052968"
      ]
     },
     "execution_count": 9,
     "metadata": {},
     "output_type": "execute_result"
    }
   ],
   "source": [
    "result = main(wt_seq,train_m,target,predict_m,task_name,flag,cv)\n",
    "result.head(8)"
   ]
  },
  {
   "cell_type": "code",
   "execution_count": 10,
   "metadata": {},
   "outputs": [],
   "source": [
    "result.to_csv(f'./output/result_{task_name}_pred'+'.csv')"
   ]
  },
  {
   "cell_type": "markdown",
   "metadata": {},
   "source": [
    "## Com1_SingleForSingle\n",
    "In this example, data of single mutations based on Com1-IFRS is utilized as the training set for the sake of new single mutations."
   ]
  },
  {
   "cell_type": "markdown",
   "metadata": {},
   "source": [
    "### Preparation\n",
    "\n",
    "Sequence file：seq_Com1.txt\n",
    "\n",
    "Traindata：data.xlsx ( sheet_name : Trainset3 )"
   ]
  },
  {
   "cell_type": "code",
   "execution_count": 11,
   "metadata": {},
   "outputs": [],
   "source": [
    "task_name= 'Com1_SingleForSingle'  # the name of the task"
   ]
  },
  {
   "cell_type": "code",
   "execution_count": 12,
   "metadata": {},
   "outputs": [],
   "source": [
    "wt_seq = getxulie('./input/seq_Com1.txt')  ## Specify the original sequence\n",
    "data = pd.read_excel('./input/data.xlsx',sheet_name='Trainset3')\n",
    "\n",
    "target = data['Fitness'].values\n",
    "train_m =  [m for m in data['Variants'].tolist() if m==m] \n",
    "predict_m=240 # The tRNA binding domain including 240 amino acids\n"
   ]
  },
  {
   "cell_type": "code",
   "execution_count": 20,
   "metadata": {},
   "outputs": [
    {
     "name": "stderr",
     "output_type": "stream",
     "text": [
      "Processing: 100%|██████████| 566/566 [00:28<00:00, 19.77it/s]\n"
     ]
    },
    {
     "name": "stdout",
     "output_type": "stream",
     "text": [
      "The best index of round 1 : QIAN880114\n"
     ]
    },
    {
     "name": "stderr",
     "output_type": "stream",
     "text": [
      "Processing: 100%|██████████| 566/566 [00:37<00:00, 15.03it/s]\n"
     ]
    },
    {
     "name": "stdout",
     "output_type": "stream",
     "text": [
      "The best index of round 2 : QIAN880114_OOBM770105\n"
     ]
    },
    {
     "name": "stderr",
     "output_type": "stream",
     "text": [
      "Processing: 100%|██████████| 566/566 [00:48<00:00, 11.65it/s]\n"
     ]
    },
    {
     "name": "stdout",
     "output_type": "stream",
     "text": [
      "The best index of round 3 : QIAN880114_OOBM770105_QIAN880125\n",
      "The number of mutants for training: 96\n",
      "The number of mutants for prediction: 4801\n"
     ]
    },
    {
     "data": {
      "text/html": [
       "<div>\n",
       "<style scoped>\n",
       "    .dataframe tbody tr th:only-of-type {\n",
       "        vertical-align: middle;\n",
       "    }\n",
       "\n",
       "    .dataframe tbody tr th {\n",
       "        vertical-align: top;\n",
       "    }\n",
       "\n",
       "    .dataframe thead th {\n",
       "        text-align: right;\n",
       "    }\n",
       "</style>\n",
       "<table border=\"1\" class=\"dataframe\">\n",
       "  <thead>\n",
       "    <tr style=\"text-align: right;\">\n",
       "      <th></th>\n",
       "      <th>QIAN880114_OOBM770105_QIAN880125</th>\n",
       "    </tr>\n",
       "  </thead>\n",
       "  <tbody>\n",
       "    <tr>\n",
       "      <th>H63G</th>\n",
       "      <td>2.060392</td>\n",
       "    </tr>\n",
       "    <tr>\n",
       "      <th>H63S</th>\n",
       "      <td>1.636960</td>\n",
       "    </tr>\n",
       "    <tr>\n",
       "      <th>H63A</th>\n",
       "      <td>1.545795</td>\n",
       "    </tr>\n",
       "    <tr>\n",
       "      <th>E199G</th>\n",
       "      <td>1.544404</td>\n",
       "    </tr>\n",
       "    <tr>\n",
       "      <th>N80I</th>\n",
       "      <td>1.516855</td>\n",
       "    </tr>\n",
       "    <tr>\n",
       "      <th>E199S</th>\n",
       "      <td>1.444043</td>\n",
       "    </tr>\n",
       "    <tr>\n",
       "      <th>K67G</th>\n",
       "      <td>1.415897</td>\n",
       "    </tr>\n",
       "    <tr>\n",
       "      <th>H63T</th>\n",
       "      <td>1.410607</td>\n",
       "    </tr>\n",
       "    <tr>\n",
       "      <th>D76G</th>\n",
       "      <td>1.408622</td>\n",
       "    </tr>\n",
       "    <tr>\n",
       "      <th>H28A</th>\n",
       "      <td>1.384394</td>\n",
       "    </tr>\n",
       "  </tbody>\n",
       "</table>\n",
       "</div>"
      ],
      "text/plain": [
       "       QIAN880114_OOBM770105_QIAN880125\n",
       "H63G                           2.060392\n",
       "H63S                           1.636960\n",
       "H63A                           1.545795\n",
       "E199G                          1.544404\n",
       "N80I                           1.516855\n",
       "E199S                          1.444043\n",
       "K67G                           1.415897\n",
       "H63T                           1.410607\n",
       "D76G                           1.408622\n",
       "H28A                           1.384394"
      ]
     },
     "execution_count": 20,
     "metadata": {},
     "output_type": "execute_result"
    }
   ],
   "source": [
    "flag=3  # the number of indexs to be screened\n",
    "cv=10\n",
    "result = main(wt_seq,train_m,target,predict_m,task_name,flag,cv)\n",
    "result.to_csv(f'./output/result_{task_name}_pred_flag{flag}'+'.csv')\n",
    "result.head(10)"
   ]
  },
  {
   "cell_type": "markdown",
   "metadata": {},
   "source": [
    "## Com1_MultiForCom2\n",
    "In this example, data of single and double mutations based on Com1-IFRS is used as the training set for the sake of combinations."
   ]
  },
  {
   "cell_type": "markdown",
   "metadata": {},
   "source": [
    "### Preparation\n",
    "\n",
    "Sequence file：seq_Com1.txt\n",
    "\n",
    "Traindata：data.xlsx ( sheet_name : Trainset4 )"
   ]
  },
  {
   "cell_type": "code",
   "execution_count": 21,
   "metadata": {},
   "outputs": [],
   "source": [
    "task_name= 'Com1_MultiForCom2'  # the name of the task"
   ]
  },
  {
   "cell_type": "code",
   "execution_count": 22,
   "metadata": {},
   "outputs": [],
   "source": [
    "wt_seq = getxulie('./input/seq_Com1.txt')  ## Specify the original sequence\n",
    "data = pd.read_excel('./input/data.xlsx',sheet_name='Trainset4')\n",
    "\n",
    "target = data['Fitness'].values\n",
    "train_m =  [m for m in data['Variants'].tolist() if m==m] \n",
    "# predict_m=['N7H','N7E','N7Y','H63L','H63M','H63C','H63A','H63I','H63D','H63N','T68F','K67G','K67S','K67L','K67N','K67T','V74F','V74W','D76L','D76F','D76Y','D76I','D76N','D76A','D76W','D76S','D76H'] \n",
    "predict_m='com1_11520_multi_m.csv'  # A great much time is taken to generate combinatorial mutant sequences. So a file is used to store the combinatorial mutant sequences."
   ]
  },
  {
   "cell_type": "code",
   "execution_count": 23,
   "metadata": {},
   "outputs": [
    {
     "name": "stderr",
     "output_type": "stream",
     "text": [
      "Processing: 100%|██████████| 566/566 [00:36<00:00, 15.63it/s]\n"
     ]
    },
    {
     "name": "stdout",
     "output_type": "stream",
     "text": [
      "The best index of round 1 : AVBF000109\n"
     ]
    },
    {
     "name": "stderr",
     "output_type": "stream",
     "text": [
      "Processing: 100%|██████████| 566/566 [01:22<00:00,  6.87it/s]\n"
     ]
    },
    {
     "name": "stdout",
     "output_type": "stream",
     "text": [
      "The best index of round 2 : AVBF000109_JUNJ780101\n"
     ]
    },
    {
     "name": "stderr",
     "output_type": "stream",
     "text": [
      "Processing: 100%|██████████| 566/566 [01:40<00:00,  5.64it/s]\n"
     ]
    },
    {
     "name": "stdout",
     "output_type": "stream",
     "text": [
      "The best index of round 3 : AVBF000109_JUNJ780101_JUKT750101\n",
      "The number of mutants for training: 120\n",
      "The number of mutants for prediction: 11520\n"
     ]
    },
    {
     "data": {
      "text/html": [
       "<div>\n",
       "<style scoped>\n",
       "    .dataframe tbody tr th:only-of-type {\n",
       "        vertical-align: middle;\n",
       "    }\n",
       "\n",
       "    .dataframe tbody tr th {\n",
       "        vertical-align: top;\n",
       "    }\n",
       "\n",
       "    .dataframe thead th {\n",
       "        text-align: right;\n",
       "    }\n",
       "</style>\n",
       "<table border=\"1\" class=\"dataframe\">\n",
       "  <thead>\n",
       "    <tr style=\"text-align: right;\">\n",
       "      <th></th>\n",
       "      <th>AVBF000109_JUNJ780101_JUKT750101</th>\n",
       "    </tr>\n",
       "  </thead>\n",
       "  <tbody>\n",
       "    <tr>\n",
       "      <th>N7Y/H63L/K67N/V74W/D76N</th>\n",
       "      <td>2.249757</td>\n",
       "    </tr>\n",
       "    <tr>\n",
       "      <th>N7Y/H63A/K67N/V74W/D76N</th>\n",
       "      <td>2.244994</td>\n",
       "    </tr>\n",
       "    <tr>\n",
       "      <th>N7Y/H63L/K67N/V74W</th>\n",
       "      <td>2.219965</td>\n",
       "    </tr>\n",
       "    <tr>\n",
       "      <th>N7Y/H63A/K67N/V74W/D76H</th>\n",
       "      <td>2.214921</td>\n",
       "    </tr>\n",
       "    <tr>\n",
       "      <th>N7Y/H63A/K67N/V74W</th>\n",
       "      <td>2.193050</td>\n",
       "    </tr>\n",
       "    <tr>\n",
       "      <th>N7Y/H63A/K67N/V74W/D76S</th>\n",
       "      <td>2.180639</td>\n",
       "    </tr>\n",
       "    <tr>\n",
       "      <th>N7Y/H63D/K67N/V74W</th>\n",
       "      <td>2.178101</td>\n",
       "    </tr>\n",
       "    <tr>\n",
       "      <th>N7Y/H63I/K67N/V74W</th>\n",
       "      <td>2.170245</td>\n",
       "    </tr>\n",
       "    <tr>\n",
       "      <th>N7Y/H63A/K67N/T68F/V74W</th>\n",
       "      <td>2.146943</td>\n",
       "    </tr>\n",
       "    <tr>\n",
       "      <th>N7Y/H63L/K67N/V74W/D76H</th>\n",
       "      <td>2.145405</td>\n",
       "    </tr>\n",
       "  </tbody>\n",
       "</table>\n",
       "</div>"
      ],
      "text/plain": [
       "                         AVBF000109_JUNJ780101_JUKT750101\n",
       "N7Y/H63L/K67N/V74W/D76N                          2.249757\n",
       "N7Y/H63A/K67N/V74W/D76N                          2.244994\n",
       "N7Y/H63L/K67N/V74W                               2.219965\n",
       "N7Y/H63A/K67N/V74W/D76H                          2.214921\n",
       "N7Y/H63A/K67N/V74W                               2.193050\n",
       "N7Y/H63A/K67N/V74W/D76S                          2.180639\n",
       "N7Y/H63D/K67N/V74W                               2.178101\n",
       "N7Y/H63I/K67N/V74W                               2.170245\n",
       "N7Y/H63A/K67N/T68F/V74W                          2.146943\n",
       "N7Y/H63L/K67N/V74W/D76H                          2.145405"
      ]
     },
     "execution_count": 23,
     "metadata": {},
     "output_type": "execute_result"
    }
   ],
   "source": [
    "flag=3  # the number of indexs to be screened\n",
    "cv=10  # the fold of cross validation\n",
    "result = main(wt_seq,train_m,target,predict_m,task_name,flag,cv)\n",
    "result.to_csv(f'./output/result_{task_name}_pred_flag{flag}'+'.csv')\n",
    "result.head(10)"
   ]
  },
  {
   "cell_type": "code",
   "execution_count": null,
   "metadata": {},
   "outputs": [],
   "source": []
  }
 ],
 "metadata": {
  "kernelspec": {
   "display_name": "MLearning",
   "language": "python",
   "name": "python3"
  },
  "language_info": {
   "codemirror_mode": {
    "name": "ipython",
    "version": 3
   },
   "file_extension": ".py",
   "mimetype": "text/x-python",
   "name": "python",
   "nbconvert_exporter": "python",
   "pygments_lexer": "ipython3",
   "version": "3.9.15"
  }
 },
 "nbformat": 4,
 "nbformat_minor": 2
}
