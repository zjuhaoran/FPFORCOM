{
 "cells": [
  {
   "cell_type": "markdown",
   "metadata": {},
   "source": [
    "# Overview\n",
    "\n",
    "In this example, the Fast Fourier Transform method was used to convert the amino acid sequence of the protein into two-dimensional spectral data, combined with least squares regression for machine learning and to predict the activity of new mutation sites.\n"
   ]
  },
  {
   "cell_type": "code",
   "execution_count": 1,
   "metadata": {},
   "outputs": [],
   "source": [
    "FFT_src_folder_path = \"./src/\"\n",
    "\n",
    "import sys\n",
    "sys.path.insert(0, FFT_src_folder_path)\n",
    "\n",
    "\n",
    "%load_ext autoreload\n",
    "%autoreload 2\n",
    "\n",
    "# ignore all warnings\n",
    "import warnings\n",
    "warnings.filterwarnings('ignore')\n",
    "\n",
    "import pandas as pd\n",
    "from data import getxulie\n",
    "from data import getseqs\n",
    "from data import getmutimutants,getsinglemutants\n",
    "from model import index_search\n",
    "from model import make_prediction"
   ]
  },
  {
   "cell_type": "code",
   "execution_count": 2,
   "metadata": {},
   "outputs": [],
   "source": [
    "# the main function of every task\n",
    "def main(wt_seq,train_m,target,predict_m,task_name,flag,cv):\n",
    "\n",
    "    #Genrate the sequence of mutants\n",
    "    train_m_dict=getseqs(wt_seq,train_m)\n",
    "    if type(predict_m) == int:  ## Specify the sites for performing saturation mutagenesis\n",
    "        predict_m_dict = getsinglemutants(wt_seq,predict_m)\n",
    "    elif '.csv' in predict_m:\n",
    "        predict_m_dict = pd.read_csv('./input'+'/'+predict_m,index_col=0).to_dict()['0']\n",
    "    else:  ## Default to combinatorial mutagenesis at specified sites\n",
    "        predict_m_dict  = getmutimutants(wt_seq,predict_m)\n",
    "\n",
    "    #Screen the best AAindex\n",
    "    indexlist=[]\n",
    "    for i in range(flag):\n",
    "        screenindex,score = index_search(train_m_dict,target,indexlist,cv)\n",
    "        screenindex_= '_'.join(screenindex)\n",
    "        score.to_csv(f'./output/{task_name}_{screenindex_}'+'.csv')\n",
    "        indexlist.append(screenindex[-1])\n",
    "        print('The best index of round '+str(i+1)+' : '+screenindex_)\n",
    "\n",
    "    single_m = getseqs(wt_seq,[m for m in train_m if '/' not in m])\n",
    "    #Model prediction\n",
    "    all_m =dict(single_m,**predict_m_dict)  #Combine single and multiple mutants\n",
    "    result = make_prediction(train_m_dict,target,all_m,score.index[0].split('_'),score['n_components'][0])\n",
    "    result=result.sort_values(by=score.index[0],ascending=False)\n",
    "    return result\n"
   ]
  },
  {
   "cell_type": "markdown",
   "metadata": {},
   "source": [
    "## SingleForMulti\n",
    "In this example, data of single-point mutations is utilized as the training set. After selecting suitable AAindex features, the best features are used to build a model, which is then applied to predict the mutation landscape."
   ]
  },
  {
   "cell_type": "markdown",
   "metadata": {},
   "source": [
    "### INPUT\n",
    "\n",
    "Sequence file：`seq_IFRS.txt`  #the IFRS sequence\n",
    "\n",
    "Traindata：`data.xlsx ( sheet_name : Trainset1 ) ` #Specify the training set, including the fitness of the single-point mutations and WT.\n",
    "\n",
    "Then put them in the `input` folder.\n",
    "\n",
    "### OUTPUT\n",
    "`result_SingleForMulti_pred.csv ` #The predicted fitness of specified combinatory mutants was saved in the `output` folder.\n",
    "\n",
    "### FOR USER\n",
    "Firstly, create a file named 'data.xlsx' in the `input` folder, and put the training set in the first sheet named `'Trainset1'`. The fitness of the  mutations is in the 'Fitness' column, and the variants are in the 'Variants' column. create a file named 'XXX.txt' in the input folder, and put the WT sequence in it.\n",
    "\n",
    "Then Change the following parameters in the code:\n",
    "\n",
    "`seq_WT_protein_path ` # Specify the original amino acids sequence\n",
    "\n",
    "`Combinatory_mutants` # Specify the mutation sites to be combined\n",
    "\n",
    "`output_file `  # the name of the output file\n",
    "\n",
    "`flag`  # the number of indexes to be screened\n",
    "\n",
    "`cv`   # the fold of cross validation\n",
    "\n",
    "Then run the code.\n",
    "\n",
    "Finally, the predicted fitness of the specified combinatory mutants will be saved in the `output` folder."
   ]
  },
  {
   "cell_type": "code",
   "execution_count": 3,
   "metadata": {},
   "outputs": [],
   "source": [
    "task_name= 'SingleForMulti'  # the name of the task"
   ]
  },
  {
   "cell_type": "code",
   "execution_count": 4,
   "metadata": {},
   "outputs": [],
   "source": [
    "seq_WT_protein_path='./input/seq_IFRS.txt'  ## Specify the original sequence\n",
    "Combinatory_mutants= ['D2N','K3N','R19H','H29R','V31I','T56P','R61K','H62Y','H63Y','A100E','T122S','S193R'] \n",
    "output_file = 'result_{task_name}_pred'\n",
    "\n",
    "wt_seq = getxulie(seq_WT_protein_path)  \n",
    "data = pd.read_excel('./input/data.xlsx',sheet_name='Trainset1')  # Specify the training set\n",
    "target = data['Fitness'].values\n",
    "train_m =  [m for m in data['Variants'].tolist() if m==m] \n",
    "predict_m =Combinatory_mutants# Specify the mutation sites to be combined\n",
    "\n",
    "flag=1  # the number of indexs to be screened\n",
    "cv=len(train_m) # the fold of cross validation, here represents leave-one-out cross validation\n"
   ]
  },
  {
   "cell_type": "code",
   "execution_count": 5,
   "metadata": {},
   "outputs": [
    {
     "name": "stderr",
     "output_type": "stream",
     "text": [
      "Processing: 100%|██████████| 566/566 [00:35<00:00, 15.94it/s]\n"
     ]
    },
    {
     "name": "stdout",
     "output_type": "stream",
     "text": [
      "The best index of round 1 : OOBM850103\n",
      "The number of mutants for training: 13\n",
      "The number of mutants for prediction: 4096\n"
     ]
    },
    {
     "data": {
      "application/vnd.microsoft.datawrangler.viewer.v0+json": {
       "columns": [
        {
         "name": "index",
         "rawType": "object",
         "type": "string"
        },
        {
         "name": "OOBM850103",
         "rawType": "float64",
         "type": "float"
        }
       ],
       "conversionMethod": "pd.DataFrame",
       "ref": "d81f12c9-56e5-4617-9e95-54eb7f953886",
       "rows": [
        [
         "D2N/R61K/H62Y",
         "4.8179187343610135"
        ],
        [
         "D2N/V31I/H62Y",
         "4.74173262411379"
        ],
        [
         "D2N/H62Y",
         "4.581114945225041"
        ],
        [
         "D2N/H62Y/A100E",
         "4.461181488461184"
        ],
        [
         "D2N/H29R/H62Y",
         "4.204005553224337"
        ],
        [
         "D2N/H62Y/S193R",
         "4.197834739957364"
        ],
        [
         "D2N/K3N/H62Y",
         "4.162269201461819"
        ],
        [
         "D2N/V31I/R61K",
         "4.058469046366282"
        ],
        [
         "D2N/R61K/A100E",
         "4.026157410304359"
        ],
        [
         "D2N/R19H/H62Y",
         "3.984227983866549"
        ]
       ],
       "shape": {
        "columns": 1,
        "rows": 10
       }
      },
      "text/html": [
       "<div>\n",
       "<style scoped>\n",
       "    .dataframe tbody tr th:only-of-type {\n",
       "        vertical-align: middle;\n",
       "    }\n",
       "\n",
       "    .dataframe tbody tr th {\n",
       "        vertical-align: top;\n",
       "    }\n",
       "\n",
       "    .dataframe thead th {\n",
       "        text-align: right;\n",
       "    }\n",
       "</style>\n",
       "<table border=\"1\" class=\"dataframe\">\n",
       "  <thead>\n",
       "    <tr style=\"text-align: right;\">\n",
       "      <th></th>\n",
       "      <th>OOBM850103</th>\n",
       "    </tr>\n",
       "  </thead>\n",
       "  <tbody>\n",
       "    <tr>\n",
       "      <th>D2N/R61K/H62Y</th>\n",
       "      <td>4.817919</td>\n",
       "    </tr>\n",
       "    <tr>\n",
       "      <th>D2N/V31I/H62Y</th>\n",
       "      <td>4.741733</td>\n",
       "    </tr>\n",
       "    <tr>\n",
       "      <th>D2N/H62Y</th>\n",
       "      <td>4.581115</td>\n",
       "    </tr>\n",
       "    <tr>\n",
       "      <th>D2N/H62Y/A100E</th>\n",
       "      <td>4.461181</td>\n",
       "    </tr>\n",
       "    <tr>\n",
       "      <th>D2N/H29R/H62Y</th>\n",
       "      <td>4.204006</td>\n",
       "    </tr>\n",
       "    <tr>\n",
       "      <th>D2N/H62Y/S193R</th>\n",
       "      <td>4.197835</td>\n",
       "    </tr>\n",
       "    <tr>\n",
       "      <th>D2N/K3N/H62Y</th>\n",
       "      <td>4.162269</td>\n",
       "    </tr>\n",
       "    <tr>\n",
       "      <th>D2N/V31I/R61K</th>\n",
       "      <td>4.058469</td>\n",
       "    </tr>\n",
       "    <tr>\n",
       "      <th>D2N/R61K/A100E</th>\n",
       "      <td>4.026157</td>\n",
       "    </tr>\n",
       "    <tr>\n",
       "      <th>D2N/R19H/H62Y</th>\n",
       "      <td>3.984228</td>\n",
       "    </tr>\n",
       "  </tbody>\n",
       "</table>\n",
       "</div>"
      ],
      "text/plain": [
       "                OOBM850103\n",
       "D2N/R61K/H62Y     4.817919\n",
       "D2N/V31I/H62Y     4.741733\n",
       "D2N/H62Y          4.581115\n",
       "D2N/H62Y/A100E    4.461181\n",
       "D2N/H29R/H62Y     4.204006\n",
       "D2N/H62Y/S193R    4.197835\n",
       "D2N/K3N/H62Y      4.162269\n",
       "D2N/V31I/R61K     4.058469\n",
       "D2N/R61K/A100E    4.026157\n",
       "D2N/R19H/H62Y     3.984228"
      ]
     },
     "execution_count": 5,
     "metadata": {},
     "output_type": "execute_result"
    }
   ],
   "source": [
    "# The predicted fitness of all combinatory mutants\n",
    "result = main(wt_seq,train_m,target,predict_m,task_name,flag,cv)\n",
    "\n",
    "# The predicted Fitness of single, double and triple mutants\n",
    "result.loc[[m for m in result.index if m.count('/')<3],].head(10)"
   ]
  },
  {
   "cell_type": "code",
   "execution_count": 6,
   "metadata": {},
   "outputs": [],
   "source": [
    "# save the result to csv in the output folder\n",
    "result.to_csv(f'./output/{output_file}'+'.csv')"
   ]
  },
  {
   "cell_type": "markdown",
   "metadata": {},
   "source": [
    "## MultiForCom1\n",
    "In this example, data of single, double and triple-site mutations is utilized as the training set. After selecting suitable AAindex features, the best features are used to build a model, which is then applied to predict the mutation landscape. And top 8 of the predicted mutations are selected to validate by experiments."
   ]
  },
  {
   "cell_type": "markdown",
   "metadata": {},
   "source": [
    "### Preparation\n",
    "\n",
    "Sequence file：`seq_IFRS.txt`  #the WT sequence\n",
    "\n",
    "Traindata：`data.xlsx ( sheet_name : Trainset2 ) ` #Specify the training set, including the fitness of the single-point and multi-point mutations and WT.\n",
    "\n",
    "Then put them in the `input` folder.\n",
    "\n",
    "### OUTPUT\n",
    "`result_MultiForCom1_pred.csv ` #The predicted fitness of specified combinatory mutants was saved in the `output` folder.\n",
    "\n",
    "\n",
    "### FOR USER\n",
    "Firstly, create a file named 'data.xlsx' in the `input` folder, and put the training set in the first sheet named `'Trainset2'`. The fitness of the  mutations is in the 'Fitness' column, and the variants are in the 'Variants' column. create a file named 'XXX.txt' in the input folder, and put the WT sequence in it.\n",
    "\n",
    "Then Change the following parameters in the code:\n",
    "\n",
    "`seq_WT_protein_path ` # Specify the original amino acids sequence\n",
    "\n",
    "`Combinatory_mutants` # Specify the mutation sites to be combined\n",
    "\n",
    "`output_file `  # the name of the output file\n",
    "\n",
    "`flag`  # the number of indexes to be screened\n",
    "\n",
    "`cv`   # the fold of cross validation\n",
    "\n",
    "Then run the code.\n",
    "\n",
    "Finally, the predicted fitness of the specified combinatory mutants will be saved in the `output` folder."
   ]
  },
  {
   "cell_type": "code",
   "execution_count": 7,
   "metadata": {},
   "outputs": [],
   "source": [
    "task_name= 'MultiForCom1'  # the name of the task"
   ]
  },
  {
   "cell_type": "code",
   "execution_count": 8,
   "metadata": {},
   "outputs": [],
   "source": [
    "seq_WT_protein_path='./input/seq_IFRS.txt'  ## Specify the original sequence\n",
    "# Specify the mutation sites to be combined\n",
    "Combinatory_mutants= ['D2N','K3N','R19H','H29R','V31I','T56P','R61K','H62Y','H63Y','A100E','T122S','S193R']  \n",
    "output_file = 'result_{task_name}_pred'\n",
    "\n",
    "wt_seq = getxulie(seq_WT_protein_path)  \n",
    "data = pd.read_excel('./input/data.xlsx',sheet_name='Trainset2')\n",
    "target = data['Fitness'].values\n",
    "train_m =  [m for m in data['Variants'].tolist() if m==m] \n",
    "predict_m =Combinatory_mutants\n",
    "\n",
    "flag=1  # the number of indexes to be screened\n",
    "cv=len(train_m)# the fold of cross validation, here represents leave-one-out cross validation\n"
   ]
  },
  {
   "cell_type": "code",
   "execution_count": 9,
   "metadata": {},
   "outputs": [
    {
     "name": "stderr",
     "output_type": "stream",
     "text": [
      "Processing: 100%|██████████| 566/566 [01:09<00:00,  8.12it/s]\n"
     ]
    },
    {
     "name": "stdout",
     "output_type": "stream",
     "text": [
      "The best index of round 1 : RADA880104\n",
      "The number of mutants for training: 38\n",
      "The number of mutants for prediction: 4096\n"
     ]
    },
    {
     "data": {
      "application/vnd.microsoft.datawrangler.viewer.v0+json": {
       "columns": [
        {
         "name": "index",
         "rawType": "object",
         "type": "string"
        },
        {
         "name": "RADA880104",
         "rawType": "float64",
         "type": "float"
        }
       ],
       "conversionMethod": "pd.DataFrame",
       "ref": "ae801243-57c9-4fee-b622-e57cd462dac3",
       "rows": [
        [
         "D2N/K3N/T56P/R61K/H62Y/S193R",
         "8.16345394437008"
        ],
        [
         "D2N/K3N/V31I/T56P/R61K/H62Y/S193R",
         "8.133763414474021"
        ],
        [
         "D2N/K3N/T56P/R61K/H62Y/T122S/S193R",
         "8.133705284587085"
        ],
        [
         "D2N/K3N/V31I/T56P/R61K/H62Y/T122S/S193R",
         "8.128409279884345"
        ],
        [
         "D2N/T56P/R61K/H62Y/S193R",
         "8.06595797391817"
        ],
        [
         "D2N/V31I/T56P/R61K/H62Y/S193R",
         "8.064915211118073"
        ],
        [
         "D2N/V31I/T56P/R61K/H62Y/T122S/S193R",
         "8.059373862614855"
        ],
        [
         "D2N/T56P/R61K/H62Y/T122S/S193R",
         "8.052968401400111"
        ]
       ],
       "shape": {
        "columns": 1,
        "rows": 8
       }
      },
      "text/html": [
       "<div>\n",
       "<style scoped>\n",
       "    .dataframe tbody tr th:only-of-type {\n",
       "        vertical-align: middle;\n",
       "    }\n",
       "\n",
       "    .dataframe tbody tr th {\n",
       "        vertical-align: top;\n",
       "    }\n",
       "\n",
       "    .dataframe thead th {\n",
       "        text-align: right;\n",
       "    }\n",
       "</style>\n",
       "<table border=\"1\" class=\"dataframe\">\n",
       "  <thead>\n",
       "    <tr style=\"text-align: right;\">\n",
       "      <th></th>\n",
       "      <th>RADA880104</th>\n",
       "    </tr>\n",
       "  </thead>\n",
       "  <tbody>\n",
       "    <tr>\n",
       "      <th>D2N/K3N/T56P/R61K/H62Y/S193R</th>\n",
       "      <td>8.163454</td>\n",
       "    </tr>\n",
       "    <tr>\n",
       "      <th>D2N/K3N/V31I/T56P/R61K/H62Y/S193R</th>\n",
       "      <td>8.133763</td>\n",
       "    </tr>\n",
       "    <tr>\n",
       "      <th>D2N/K3N/T56P/R61K/H62Y/T122S/S193R</th>\n",
       "      <td>8.133705</td>\n",
       "    </tr>\n",
       "    <tr>\n",
       "      <th>D2N/K3N/V31I/T56P/R61K/H62Y/T122S/S193R</th>\n",
       "      <td>8.128409</td>\n",
       "    </tr>\n",
       "    <tr>\n",
       "      <th>D2N/T56P/R61K/H62Y/S193R</th>\n",
       "      <td>8.065958</td>\n",
       "    </tr>\n",
       "    <tr>\n",
       "      <th>D2N/V31I/T56P/R61K/H62Y/S193R</th>\n",
       "      <td>8.064915</td>\n",
       "    </tr>\n",
       "    <tr>\n",
       "      <th>D2N/V31I/T56P/R61K/H62Y/T122S/S193R</th>\n",
       "      <td>8.059374</td>\n",
       "    </tr>\n",
       "    <tr>\n",
       "      <th>D2N/T56P/R61K/H62Y/T122S/S193R</th>\n",
       "      <td>8.052968</td>\n",
       "    </tr>\n",
       "  </tbody>\n",
       "</table>\n",
       "</div>"
      ],
      "text/plain": [
       "                                         RADA880104\n",
       "D2N/K3N/T56P/R61K/H62Y/S193R               8.163454\n",
       "D2N/K3N/V31I/T56P/R61K/H62Y/S193R          8.133763\n",
       "D2N/K3N/T56P/R61K/H62Y/T122S/S193R         8.133705\n",
       "D2N/K3N/V31I/T56P/R61K/H62Y/T122S/S193R    8.128409\n",
       "D2N/T56P/R61K/H62Y/S193R                   8.065958\n",
       "D2N/V31I/T56P/R61K/H62Y/S193R              8.064915\n",
       "D2N/V31I/T56P/R61K/H62Y/T122S/S193R        8.059374\n",
       "D2N/T56P/R61K/H62Y/T122S/S193R             8.052968"
      ]
     },
     "execution_count": 9,
     "metadata": {},
     "output_type": "execute_result"
    }
   ],
   "source": [
    "result = main(wt_seq,train_m,target,predict_m,task_name,flag,cv)\n",
    "result.head(8)"
   ]
  },
  {
   "cell_type": "code",
   "execution_count": 10,
   "metadata": {},
   "outputs": [],
   "source": [
    "result.to_csv(f'./output/{output_file}'+'.csv') # save the result to csv in the output folder"
   ]
  },
  {
   "cell_type": "markdown",
   "metadata": {},
   "source": [
    "## Com1_SingleForSingle\n",
    "In this example, data of single mutations based on Com1-IFRS is utilized as the training set for the sake of new single mutations."
   ]
  },
  {
   "cell_type": "markdown",
   "metadata": {},
   "source": [
    "### INPUT\n",
    "\n",
    "Sequence file：`seq_Com1.txt`  #the Com1-IFRS sequence\n",
    "\n",
    "Traindata：`data.xlsx ( sheet_name : Trainset3 ) ` #Specify the training set, including the fitness of the single-point mutations and WT based on Com1-IFRS.\n",
    "\n",
    "Then put them in the `input` folder.\n",
    "\n",
    "### OUTPUT\n",
    "`result_Com1_SingleForSingle_pred.csv ` #The predicted fitness of specified combinatory mutants was saved in the `output` folder.\n",
    "\n",
    "\n",
    "### FOR USER\n",
    "Firstly, create a file named 'data.xlsx' in the `input` folder, and put the training set in the first sheet named `'Trainset3'`. The fitness of the  mutations is in the 'Fitness' column, and the variants are in the 'Variants' column. create a file named 'XXX.txt' in the input folder, and put the WT sequence in it.\n",
    "\n",
    "Then Change the following parameters in the code:\n",
    "\n",
    "`seq_WT_protein_path ` # Specify the original amino acids sequence\n",
    "\n",
    "`Mutations_scaning_domain` # Specify the domain to be screened. eg. 240 refers to the first 240 amino acids of the WT sequence.\n",
    "\n",
    "`output_file `  # the name of the output file\n",
    "\n",
    "`flag`  # the number of indexes to be screened\n",
    "\n",
    "`cv`   # the fold of cross validation\n",
    "\n",
    "Then run the code.\n",
    "\n",
    "Finally, the predicted fitness of the specified single-point mutants will be saved in the `output` folder.\n"
   ]
  },
  {
   "cell_type": "code",
   "execution_count": 11,
   "metadata": {},
   "outputs": [],
   "source": [
    "task_name= 'Com1_SingleForSingle'  # the name of the task"
   ]
  },
  {
   "cell_type": "code",
   "execution_count": 12,
   "metadata": {},
   "outputs": [],
   "source": [
    "seq_WT_protein_path='./input/seq_Com1.txt'  ## Specify the original sequence\n",
    "Mutations_scaning_domain = 240 # The tRNA binding domain including 240 amino acids\n",
    "output_file = 'result_{task_name}_pred'\n",
    "\n",
    "wt_seq = getxulie(seq_WT_protein_path)   ## Specify the original sequence\n",
    "data = pd.read_excel('./input/data.xlsx',sheet_name='Trainset3')\n",
    "\n",
    "target = data['Fitness'].values\n",
    "train_m =  [m for m in data['Variants'].tolist() if m==m] \n",
    "predict_m=Mutations_scaning_domain # The tRNA binding domain including 240 amino acids\n"
   ]
  },
  {
   "cell_type": "code",
   "execution_count": 13,
   "metadata": {},
   "outputs": [
    {
     "name": "stderr",
     "output_type": "stream",
     "text": [
      "Processing: 100%|██████████| 566/566 [00:35<00:00, 16.07it/s]\n"
     ]
    },
    {
     "name": "stdout",
     "output_type": "stream",
     "text": [
      "The best index of round 1 : QIAN880114\n"
     ]
    },
    {
     "name": "stderr",
     "output_type": "stream",
     "text": [
      "Processing: 100%|██████████| 566/566 [00:43<00:00, 12.99it/s]\n"
     ]
    },
    {
     "name": "stdout",
     "output_type": "stream",
     "text": [
      "The best index of round 2 : QIAN880114_OOBM770105\n"
     ]
    },
    {
     "name": "stderr",
     "output_type": "stream",
     "text": [
      "Processing: 100%|██████████| 566/566 [01:18<00:00,  7.18it/s]\n"
     ]
    },
    {
     "name": "stdout",
     "output_type": "stream",
     "text": [
      "The best index of round 3 : QIAN880114_OOBM770105_QIAN880125\n",
      "The number of mutants for training: 96\n",
      "The number of mutants for prediction: 4801\n"
     ]
    },
    {
     "data": {
      "application/vnd.microsoft.datawrangler.viewer.v0+json": {
       "columns": [
        {
         "name": "index",
         "rawType": "object",
         "type": "string"
        },
        {
         "name": "QIAN880114_OOBM770105_QIAN880125",
         "rawType": "float64",
         "type": "float"
        }
       ],
       "conversionMethod": "pd.DataFrame",
       "ref": "90621457-f576-473d-973a-cafa45373a04",
       "rows": [
        [
         "H63G",
         "2.0603918652285986"
        ],
        [
         "H63S",
         "1.636960196004551"
        ],
        [
         "H63A",
         "1.5457949438821528"
        ],
        [
         "E199G",
         "1.544403897585928"
        ],
        [
         "N80I",
         "1.5168546124997826"
        ],
        [
         "E199S",
         "1.444042617818535"
        ],
        [
         "K67G",
         "1.4158965135756154"
        ],
        [
         "H63T",
         "1.4106070464686344"
        ],
        [
         "D76G",
         "1.40862248305364"
        ],
        [
         "H28A",
         "1.3843938858153715"
        ]
       ],
       "shape": {
        "columns": 1,
        "rows": 10
       }
      },
      "text/html": [
       "<div>\n",
       "<style scoped>\n",
       "    .dataframe tbody tr th:only-of-type {\n",
       "        vertical-align: middle;\n",
       "    }\n",
       "\n",
       "    .dataframe tbody tr th {\n",
       "        vertical-align: top;\n",
       "    }\n",
       "\n",
       "    .dataframe thead th {\n",
       "        text-align: right;\n",
       "    }\n",
       "</style>\n",
       "<table border=\"1\" class=\"dataframe\">\n",
       "  <thead>\n",
       "    <tr style=\"text-align: right;\">\n",
       "      <th></th>\n",
       "      <th>QIAN880114_OOBM770105_QIAN880125</th>\n",
       "    </tr>\n",
       "  </thead>\n",
       "  <tbody>\n",
       "    <tr>\n",
       "      <th>H63G</th>\n",
       "      <td>2.060392</td>\n",
       "    </tr>\n",
       "    <tr>\n",
       "      <th>H63S</th>\n",
       "      <td>1.636960</td>\n",
       "    </tr>\n",
       "    <tr>\n",
       "      <th>H63A</th>\n",
       "      <td>1.545795</td>\n",
       "    </tr>\n",
       "    <tr>\n",
       "      <th>E199G</th>\n",
       "      <td>1.544404</td>\n",
       "    </tr>\n",
       "    <tr>\n",
       "      <th>N80I</th>\n",
       "      <td>1.516855</td>\n",
       "    </tr>\n",
       "    <tr>\n",
       "      <th>E199S</th>\n",
       "      <td>1.444043</td>\n",
       "    </tr>\n",
       "    <tr>\n",
       "      <th>K67G</th>\n",
       "      <td>1.415897</td>\n",
       "    </tr>\n",
       "    <tr>\n",
       "      <th>H63T</th>\n",
       "      <td>1.410607</td>\n",
       "    </tr>\n",
       "    <tr>\n",
       "      <th>D76G</th>\n",
       "      <td>1.408622</td>\n",
       "    </tr>\n",
       "    <tr>\n",
       "      <th>H28A</th>\n",
       "      <td>1.384394</td>\n",
       "    </tr>\n",
       "  </tbody>\n",
       "</table>\n",
       "</div>"
      ],
      "text/plain": [
       "       QIAN880114_OOBM770105_QIAN880125\n",
       "H63G                           2.060392\n",
       "H63S                           1.636960\n",
       "H63A                           1.545795\n",
       "E199G                          1.544404\n",
       "N80I                           1.516855\n",
       "E199S                          1.444043\n",
       "K67G                           1.415897\n",
       "H63T                           1.410607\n",
       "D76G                           1.408622\n",
       "H28A                           1.384394"
      ]
     },
     "execution_count": 13,
     "metadata": {},
     "output_type": "execute_result"
    }
   ],
   "source": [
    "flag=3  # the number of indexs to be screened\n",
    "cv=10 # the fold of cross validation\n",
    "result = main(wt_seq,train_m,target,predict_m,task_name,flag,cv)\n",
    "result.head(10)"
   ]
  },
  {
   "cell_type": "code",
   "execution_count": 14,
   "metadata": {},
   "outputs": [],
   "source": [
    "result.to_csv(f'./output/{output_file}'+'.csv') # save the result to csv in the output folder"
   ]
  },
  {
   "cell_type": "markdown",
   "metadata": {},
   "source": [
    "## Com1_MultiForCom2\n",
    "In this example, data of single and double mutations based on Com1-IFRS is used as the training set for the sake of combinations."
   ]
  },
  {
   "cell_type": "markdown",
   "metadata": {},
   "source": [
    "### INPUT\n",
    "\n",
    "Sequence file：`seq_Com1.txt`  #the Com1-IFRS sequence\n",
    "\n",
    "Traindata：`data.xlsx ( sheet_name : Trainset4 ) ` #Specify the training set, including the fitness of the single-point and multi-point mutations and WT based on Com1-IFRS.\n",
    "\n",
    "### OUTPUT\n",
    "`result_Com1_MultiForCom2_pred.csv ` #The predicted fitness of specified combinatory mutants was saved in the `output` folder.\n",
    "\n",
    "\n",
    "### FOR USER\n",
    "Firstly, create a file named 'data.xlsx' in the `input` folder, and put the training set in the first sheet named `'Trainset4'`. The fitness of the  mutations is in the 'Fitness' column, and the variants are in the 'Variants' column. create a file named 'XXX.txt' in the input folder, and put the WT sequence in it.\n",
    "\n",
    "Then Change the following parameters in the code:\n",
    "\n",
    "`seq_WT_protein_path ` # Specify the original amino acids sequence\n",
    "\n",
    "`Combinatory_mutants` # Specify the mutation sites to be combined\n",
    "\n",
    "`output_file `  # the name of the output file\n",
    "\n",
    "`flag`  # the number of indexes to be screened\n",
    "\n",
    "`cv`   # the fold of cross validation\n",
    "\n",
    "Then run the code.\n",
    "\n",
    "Finally, the predicted fitness of the specified combinatory mutants will be saved in the `output` folder."
   ]
  },
  {
   "cell_type": "code",
   "execution_count": 15,
   "metadata": {},
   "outputs": [],
   "source": [
    "task_name= 'Com1_MultiForCom2'  # the name of the task"
   ]
  },
  {
   "cell_type": "code",
   "execution_count": 16,
   "metadata": {},
   "outputs": [],
   "source": [
    "seq_WT_protein_path='./input/seq_Com1.txt'  ## Specify the original sequence\n",
    "# Combinatory_mutants= ['D2N','K3N','R19H','H29R','V31I','T56P','R61K','H62Y','H63Y','A100E','T122S','S193R'] \n",
    "Combinatory_mutants= 'com1_11520_multi_m.csv'  # A great much time is taken to generate combinatorial mutant sequences. So a file is used to store the combinatory mutant sequences.\n",
    "output_file = 'result_{task_name}_pred'\n",
    "\n",
    "wt_seq = getxulie(seq_WT_protein_path)  \n",
    "wt_seq = getxulie('./input/seq_Com1.txt')  ## Specify the original sequence\n",
    "data = pd.read_excel('./input/data.xlsx',sheet_name='Trainset4')\n",
    "target = data['Fitness'].values\n",
    "train_m =  [m for m in data['Variants'].tolist() if m==m] \n",
    "# predict_m=Combinatorial_mutants \n",
    "predict_m=Combinatory_mutants  "
   ]
  },
  {
   "cell_type": "code",
   "execution_count": 17,
   "metadata": {},
   "outputs": [
    {
     "name": "stderr",
     "output_type": "stream",
     "text": [
      "Processing: 100%|██████████| 566/566 [00:42<00:00, 13.20it/s]\n"
     ]
    },
    {
     "name": "stdout",
     "output_type": "stream",
     "text": [
      "The best index of round 1 : AVBF000109\n"
     ]
    },
    {
     "name": "stderr",
     "output_type": "stream",
     "text": [
      "Processing: 100%|██████████| 566/566 [00:52<00:00, 10.85it/s]\n"
     ]
    },
    {
     "name": "stdout",
     "output_type": "stream",
     "text": [
      "The best index of round 2 : AVBF000109_JUNJ780101\n"
     ]
    },
    {
     "name": "stderr",
     "output_type": "stream",
     "text": [
      "Processing: 100%|██████████| 566/566 [01:01<00:00,  9.18it/s]\n"
     ]
    },
    {
     "name": "stdout",
     "output_type": "stream",
     "text": [
      "The best index of round 3 : AVBF000109_JUNJ780101_JUKT750101\n",
      "The number of mutants for training: 120\n",
      "The number of mutants for prediction: 11520\n"
     ]
    },
    {
     "data": {
      "application/vnd.microsoft.datawrangler.viewer.v0+json": {
       "columns": [
        {
         "name": "index",
         "rawType": "object",
         "type": "string"
        },
        {
         "name": "AVBF000109_JUNJ780101_JUKT750101",
         "rawType": "float64",
         "type": "float"
        }
       ],
       "conversionMethod": "pd.DataFrame",
       "ref": "feaa116f-bdf9-4396-9639-776eb4eb3efd",
       "rows": [
        [
         "N7Y/H63L/K67N/V74W/D76N",
         "2.249756965799502"
        ],
        [
         "N7Y/H63A/K67N/V74W/D76N",
         "2.2449938448021305"
        ],
        [
         "N7Y/H63L/K67N/V74W",
         "2.21996536888487"
        ],
        [
         "N7Y/H63A/K67N/V74W/D76H",
         "2.2149206373787456"
        ],
        [
         "N7Y/H63A/K67N/V74W",
         "2.1930498547382387"
        ],
        [
         "N7Y/H63A/K67N/V74W/D76S",
         "2.180639252087666"
        ],
        [
         "N7Y/H63D/K67N/V74W",
         "2.1781010341628066"
        ],
        [
         "N7Y/H63I/K67N/V74W",
         "2.1702452573036792"
        ],
        [
         "N7Y/H63A/K67N/T68F/V74W",
         "2.1469426571068437"
        ],
        [
         "N7Y/H63L/K67N/V74W/D76H",
         "2.1454050602878754"
        ]
       ],
       "shape": {
        "columns": 1,
        "rows": 10
       }
      },
      "text/html": [
       "<div>\n",
       "<style scoped>\n",
       "    .dataframe tbody tr th:only-of-type {\n",
       "        vertical-align: middle;\n",
       "    }\n",
       "\n",
       "    .dataframe tbody tr th {\n",
       "        vertical-align: top;\n",
       "    }\n",
       "\n",
       "    .dataframe thead th {\n",
       "        text-align: right;\n",
       "    }\n",
       "</style>\n",
       "<table border=\"1\" class=\"dataframe\">\n",
       "  <thead>\n",
       "    <tr style=\"text-align: right;\">\n",
       "      <th></th>\n",
       "      <th>AVBF000109_JUNJ780101_JUKT750101</th>\n",
       "    </tr>\n",
       "  </thead>\n",
       "  <tbody>\n",
       "    <tr>\n",
       "      <th>N7Y/H63L/K67N/V74W/D76N</th>\n",
       "      <td>2.249757</td>\n",
       "    </tr>\n",
       "    <tr>\n",
       "      <th>N7Y/H63A/K67N/V74W/D76N</th>\n",
       "      <td>2.244994</td>\n",
       "    </tr>\n",
       "    <tr>\n",
       "      <th>N7Y/H63L/K67N/V74W</th>\n",
       "      <td>2.219965</td>\n",
       "    </tr>\n",
       "    <tr>\n",
       "      <th>N7Y/H63A/K67N/V74W/D76H</th>\n",
       "      <td>2.214921</td>\n",
       "    </tr>\n",
       "    <tr>\n",
       "      <th>N7Y/H63A/K67N/V74W</th>\n",
       "      <td>2.193050</td>\n",
       "    </tr>\n",
       "    <tr>\n",
       "      <th>N7Y/H63A/K67N/V74W/D76S</th>\n",
       "      <td>2.180639</td>\n",
       "    </tr>\n",
       "    <tr>\n",
       "      <th>N7Y/H63D/K67N/V74W</th>\n",
       "      <td>2.178101</td>\n",
       "    </tr>\n",
       "    <tr>\n",
       "      <th>N7Y/H63I/K67N/V74W</th>\n",
       "      <td>2.170245</td>\n",
       "    </tr>\n",
       "    <tr>\n",
       "      <th>N7Y/H63A/K67N/T68F/V74W</th>\n",
       "      <td>2.146943</td>\n",
       "    </tr>\n",
       "    <tr>\n",
       "      <th>N7Y/H63L/K67N/V74W/D76H</th>\n",
       "      <td>2.145405</td>\n",
       "    </tr>\n",
       "  </tbody>\n",
       "</table>\n",
       "</div>"
      ],
      "text/plain": [
       "                         AVBF000109_JUNJ780101_JUKT750101\n",
       "N7Y/H63L/K67N/V74W/D76N                          2.249757\n",
       "N7Y/H63A/K67N/V74W/D76N                          2.244994\n",
       "N7Y/H63L/K67N/V74W                               2.219965\n",
       "N7Y/H63A/K67N/V74W/D76H                          2.214921\n",
       "N7Y/H63A/K67N/V74W                               2.193050\n",
       "N7Y/H63A/K67N/V74W/D76S                          2.180639\n",
       "N7Y/H63D/K67N/V74W                               2.178101\n",
       "N7Y/H63I/K67N/V74W                               2.170245\n",
       "N7Y/H63A/K67N/T68F/V74W                          2.146943\n",
       "N7Y/H63L/K67N/V74W/D76H                          2.145405"
      ]
     },
     "execution_count": 17,
     "metadata": {},
     "output_type": "execute_result"
    }
   ],
   "source": [
    "flag=3  # the number of indexs to be screened\n",
    "cv=10  # the fold of cross validation\n",
    "result = main(wt_seq,train_m,target,predict_m,task_name,flag,cv)\n",
    "result.head(10)"
   ]
  },
  {
   "cell_type": "code",
   "execution_count": 18,
   "metadata": {},
   "outputs": [],
   "source": [
    "result.to_csv(f'./output/{output_file}'+'.csv') # save the result to csv in the output folder"
   ]
  }
 ],
 "metadata": {
  "kernelspec": {
   "display_name": "FP4Com",
   "language": "python",
   "name": "python3"
  },
  "language_info": {
   "codemirror_mode": {
    "name": "ipython",
    "version": 3
   },
   "file_extension": ".py",
   "mimetype": "text/x-python",
   "name": "python",
   "nbconvert_exporter": "python",
   "pygments_lexer": "ipython3",
   "version": "3.9.22"
  }
 },
 "nbformat": 4,
 "nbformat_minor": 2
}
